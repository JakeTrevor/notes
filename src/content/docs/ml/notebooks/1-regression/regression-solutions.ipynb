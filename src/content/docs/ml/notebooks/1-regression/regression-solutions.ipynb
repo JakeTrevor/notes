{
 "cells": [
  {
   "cell_type": "markdown",
   "id": "236ced3c-50db-43c0-8523-cc94b0c41ee7",
   "metadata": {},
   "source": [
    "# Regression\n",
    "\n",
    "Regression is a kind of machine learning task; the goal is to learn a continuous function from a discrete set of points. But what does that mean?\n",
    "\n",
    "To understand this, lets look at an example. Here is a file with a bunch of random data in it. Let's load it in and plot the points:"
   ]
  },
  {
   "cell_type": "code",
   "execution_count": 1,
   "id": "c0b0f93d-847e-403b-a1da-e2fc2e81335b",
   "metadata": {},
   "outputs": [],
   "source": [
    "# import the things we will need;\n",
    "import matplotlib.pyplot as plt\n",
    "import pandas as pd\n",
    "import pickle\n",
    "from typing import List, Callable\n",
    "\n",
    "# including our utils\n",
    "from utils import setup_check, load_ans\n",
    "ans = load_ans()\n",
    "\n",
    "# load in the answers we need\n",
    "check = setup_check()"
   ]
  },
  {
   "cell_type": "code",
   "execution_count": 2,
   "id": "39005d6f-e885-4617-b230-fd91be06ff81",
   "metadata": {},
   "outputs": [
    {
     "data": {
      "text/html": [
       "<div>\n",
       "<style scoped>\n",
       "    .dataframe tbody tr th:only-of-type {\n",
       "        vertical-align: middle;\n",
       "    }\n",
       "\n",
       "    .dataframe tbody tr th {\n",
       "        vertical-align: top;\n",
       "    }\n",
       "\n",
       "    .dataframe thead th {\n",
       "        text-align: right;\n",
       "    }\n",
       "</style>\n",
       "<table border=\"1\" class=\"dataframe\">\n",
       "  <thead>\n",
       "    <tr style=\"text-align: right;\">\n",
       "      <th></th>\n",
       "      <th>x</th>\n",
       "      <th>y</th>\n",
       "    </tr>\n",
       "  </thead>\n",
       "  <tbody>\n",
       "    <tr>\n",
       "      <th>0</th>\n",
       "      <td>9</td>\n",
       "      <td>38</td>\n",
       "    </tr>\n",
       "    <tr>\n",
       "      <th>1</th>\n",
       "      <td>15</td>\n",
       "      <td>62</td>\n",
       "    </tr>\n",
       "    <tr>\n",
       "      <th>2</th>\n",
       "      <td>64</td>\n",
       "      <td>258</td>\n",
       "    </tr>\n",
       "    <tr>\n",
       "      <th>3</th>\n",
       "      <td>28</td>\n",
       "      <td>114</td>\n",
       "    </tr>\n",
       "    <tr>\n",
       "      <th>4</th>\n",
       "      <td>89</td>\n",
       "      <td>358</td>\n",
       "    </tr>\n",
       "  </tbody>\n",
       "</table>\n",
       "</div>"
      ],
      "text/plain": [
       "    x    y\n",
       "0   9   38\n",
       "1  15   62\n",
       "2  64  258\n",
       "3  28  114\n",
       "4  89  358"
      ]
     },
     "execution_count": 2,
     "metadata": {},
     "output_type": "execute_result"
    }
   ],
   "source": [
    "data1 = pd.read_csv(\"./data/data1.csv\")\n",
    "data1.head()"
   ]
  },
  {
   "cell_type": "code",
   "execution_count": 3,
   "id": "1e9e690b-0220-469c-b63f-2113b9ec5ec6",
   "metadata": {},
   "outputs": [
    {
     "data": {
      "text/plain": [
       "<matplotlib.collections.PathCollection at 0x12042adc470>"
      ]
     },
     "execution_count": 3,
     "metadata": {},
     "output_type": "execute_result"
    },
    {
     "data": {
      "image/png": "[encoded data removed]",
      "text/plain": [
       "<Figure size 640x480 with 1 Axes>"
      ]
     },
     "metadata": {},
     "output_type": "display_data"
    }
   ],
   "source": [
    "plt.scatter(data1[\"x\"], data1[\"y\"], marker=\"x\")"
   ]
  },
  {
   "cell_type": "markdown",
   "id": "5ecea8b7-4e32-4cbb-bfc4-a9f38adb7340",
   "metadata": {},
   "source": [
    "Hopefully, from this it's fairly obvious that the points all lie on a straight line.\n",
    "\n",
    "Now, if you cast your mind back to pre-GCSE maths, you may recall that straight lines are described by equations of the form\n",
    "\n",
    "$$\n",
    "y = mx + c\n",
    "$$\n",
    "\n",
    "This is a function; we give it a value of x, and we can work out the value of y. It's also continous - you can make tiny changes to x and correspondingly tiny changes in y. Lets say we wanted to work out what line describes the points above - how would we do that?\n",
    "\n",
    "For this example, its quite trivial; The data lies on an exact line; so we can actually work it out with some simple algebra.\n",
    "\n",
    "If we know two points, we have enough to work out the equation. See if you can do that below:"
   ]
  },
  {
   "cell_type": "code",
   "execution_count": 4,
   "id": "b5273b67-ed7f-486f-9e2e-0492e66b2025",
   "metadata": {},
   "outputs": [
    {
     "name": "stdout",
     "output_type": "stream",
     "text": [
      "4 2\n"
     ]
    }
   ],
   "source": [
    "# Fill in some code below to work out m and c for this data set; the next cell will check your answers\n",
    "# try to compute these values from the data, if you can\n",
    "\n",
    "xs = data1[\"x\"]\n",
    "ys = data1[\"y\"]\n",
    "\n",
    "dx = xs[1] - xs[0]\n",
    "dy = ys[1] - ys[0]\n",
    "\n",
    "m1 = int(dy/dx) # write in your value for the gradient of the line above\n",
    "\n",
    "c1 = int(ys[0] - m1 * xs[0]) # write in your value for the intercept of the line above\n",
    "print(m1, c1)"
   ]
  },
  {
   "cell_type": "code",
   "execution_count": 11,
   "id": "9b71aa57-b7ea-4877-86b1-948aea6141ee",
   "metadata": {},
   "outputs": [
    {
     "name": "stdout",
     "output_type": "stream",
     "text": [
      "4\n",
      "2\n"
     ]
    },
    {
     "data": {
      "text/plain": [
       "[<matplotlib.lines.Line2D at 0x12048229b20>]"
      ]
     },
     "execution_count": 11,
     "metadata": {},
     "output_type": "execute_result"
    },
    {
     "data": {
      "image/png": "[encoded data removed]",
      "text/plain": [
       "<Figure size 640x480 with 1 Axes>"
      ]
     },
     "metadata": {},
     "output_type": "display_data"
    }
   ],
   "source": [
    "check(\"m1\", m1)\n",
    "check(\"c1\", c1)\n",
    "\n",
    "plt.scatter(data1[\"x\"], data1[\"y\"], marker=\"x\")\n",
    "xs = [0, 100]\n",
    "ys = [m1 * x + c1 for x in xs]\n",
    "plt.plot(xs, ys, linestyle=\"dashed\", color=\"red\")\n"
   ]
  },
  {
   "cell_type": "markdown",
   "id": "413e07ff-f1a7-48e9-beba-4ed83376776c",
   "metadata": {},
   "source": [
    "If all went well, those two checks should have passed just fine, and the line on the graph should line up nicely with the points. Congratulations! You have performed regression.\n",
    "\n",
    "This is all well and good, but its not really machine learning. Real data isn't quite so convenient - its noisy. Here is a more realistic example:"
   ]
  },
  {
   "cell_type": "code",
   "execution_count": 12,
   "id": "9726339c-5641-4c1e-a644-8ac7ee4afc4d",
   "metadata": {},
   "outputs": [
    {
     "data": {
      "text/html": [
       "<div>\n",
       "<style scoped>\n",
       "    .dataframe tbody tr th:only-of-type {\n",
       "        vertical-align: middle;\n",
       "    }\n",
       "\n",
       "    .dataframe tbody tr th {\n",
       "        vertical-align: top;\n",
       "    }\n",
       "\n",
       "    .dataframe thead th {\n",
       "        text-align: right;\n",
       "    }\n",
       "</style>\n",
       "<table border=\"1\" class=\"dataframe\">\n",
       "  <thead>\n",
       "    <tr style=\"text-align: right;\">\n",
       "      <th></th>\n",
       "      <th>x</th>\n",
       "      <th>y</th>\n",
       "    </tr>\n",
       "  </thead>\n",
       "  <tbody>\n",
       "    <tr>\n",
       "      <th>0</th>\n",
       "      <td>49</td>\n",
       "      <td>195</td>\n",
       "    </tr>\n",
       "    <tr>\n",
       "      <th>1</th>\n",
       "      <td>51</td>\n",
       "      <td>183</td>\n",
       "    </tr>\n",
       "    <tr>\n",
       "      <th>2</th>\n",
       "      <td>54</td>\n",
       "      <td>198</td>\n",
       "    </tr>\n",
       "    <tr>\n",
       "      <th>3</th>\n",
       "      <td>77</td>\n",
       "      <td>275</td>\n",
       "    </tr>\n",
       "    <tr>\n",
       "      <th>4</th>\n",
       "      <td>69</td>\n",
       "      <td>252</td>\n",
       "    </tr>\n",
       "  </tbody>\n",
       "</table>\n",
       "</div>"
      ],
      "text/plain": [
       "    x    y\n",
       "0  49  195\n",
       "1  51  183\n",
       "2  54  198\n",
       "3  77  275\n",
       "4  69  252"
      ]
     },
     "execution_count": 12,
     "metadata": {},
     "output_type": "execute_result"
    }
   ],
   "source": [
    "# load in data-2\n",
    "data2 = pd.read_csv(\"./data/data2.csv\")\n",
    "data2.head()"
   ]
  },
  {
   "cell_type": "code",
   "execution_count": 13,
   "id": "00da72f0-d5de-4384-b334-6c5c300ee9fa",
   "metadata": {},
   "outputs": [
    {
     "data": {
      "text/plain": [
       "<matplotlib.collections.PathCollection at 0x12048251b20>"
      ]
     },
     "execution_count": 13,
     "metadata": {},
     "output_type": "execute_result"
    },
    {
     "data": {
      "image/png": "[encoded data removed]",
      "text/plain": [
       "<Figure size 640x480 with 1 Axes>"
      ]
     },
     "metadata": {},
     "output_type": "display_data"
    }
   ],
   "source": [
    "plt.scatter(data2[\"x\"], data2[\"y\"], marker=\"x\")"
   ]
  },
  {
   "cell_type": "markdown",
   "id": "2f62e886-b955-4a7b-b1fc-eb297e39e350",
   "metadata": {},
   "source": [
    "As you can see, the data is clearly centred around a line, but it doesn't lie exactly on it. We want a way to capture the intuitive 'line of best fit'. But we also want this idea to be rigorous. How do we do that?"
   ]
  },
  {
   "cell_type": "markdown",
   "id": "31c3da1a-de10-4869-9f0a-e02397624200",
   "metadata": {},
   "source": [
    "## Models\n",
    "First let's talk about models. Models are what we make in machine learning. They recognise patterns or make predictions. They 'model' real data - they should approximate it. One way to think about models is that they are theories we have about the underlying structure of the data.\n",
    "\n",
    "\n",
    "In the example above, it looks like the data all lies on a line, but are disturbed off it somehow - as if there is some kind of noise in our measurement. So, we might theorize that the data really follows the form:\n",
    "\n",
    "$$\n",
    "y = mx + c + (\\text{noise})\n",
    "$$\n",
    "\n",
    "This is a simple linear model; Linear here is a confusing term - you might think that it's because the model follows a linear equation (and it is sometimes used in that way). However, it is also linear in the sense that it is a *linear combination* of some variables - i.e. all we do to those variables is scale and add them together.\n",
    "\n",
    "This model has two parameters; m and c. It's conventional to use $w$ to represent the parameters. So let's re-write the model equation a bit:\n",
    "\n",
    "$$\n",
    "y = w_0 + w_1 x + (\\text{noise})\n",
    "$$\n",
    "\n",
    "Note that c is $w_0$. This is because its the coefficient of $x^0 = 0$. Whereas $m$ or $w_1$ is the coefficient of $x^1 = x$.\n",
    "\n",
    "We want to know what parameters our model needs to use to be accurate to the data. We want to extract out the underlying relationship in the data - the $y=mx+c$ part. For now, let's take a couple guesses. Lets say theory 1 is:\n",
    "$$\n",
    "y = 20 + 3x\n",
    "$$\n",
    "\n",
    "And that theory 2 is:\n",
    "\n",
    "$$\n",
    "y = 9 + 5x\n",
    "$$\n",
    "\n",
    "Your task is to write an implementation for these models. From a programming perspective, a regression model can be thought of as just a function; it maps input data (`x`) to a prediction (`f(x)`) of the output data (`t`)."
   ]
  },
  {
   "cell_type": "code",
   "execution_count": 14,
   "id": "1685478a-236b-4e2c-a236-56f620a40cc1",
   "metadata": {},
   "outputs": [],
   "source": [
    "# implement your model for theory 1\n",
    "def model1(x: int) -> int:\n",
    "    return 2* x + 20\n",
    "\n",
    "# implement your model for theory 2\n",
    "def model2(x:int) -> int:\n",
    "    return 5*x + 9"
   ]
  },
  {
   "cell_type": "code",
   "execution_count": 15,
   "id": "e8bc7439-3e4f-4004-a753-c312280b911e",
   "metadata": {},
   "outputs": [
    {
     "data": {
      "text/plain": [
       "[<matplotlib.lines.Line2D at 0x12048264b00>]"
      ]
     },
     "execution_count": 15,
     "metadata": {},
     "output_type": "execute_result"
    },
    {
     "data": {
      "image/png": "[encoded data removed]",
      "text/plain": [
       "<Figure size 640x480 with 1 Axes>"
      ]
     },
     "metadata": {},
     "output_type": "display_data"
    }
   ],
   "source": [
    "plt.scatter(data2[\"x\"], data2[\"y\"], marker=\"x\")\n",
    "xs = [0, 100]\n",
    "\n",
    "# plotting theory 1\n",
    "ys = [model1(x) for x in xs]\n",
    "plt.plot(xs, ys, linestyle=\"dashed\")\n",
    "\n",
    "# plotting theory 2\n",
    "ys = [model2(x) for x in xs]\n",
    "plt.plot(xs, ys, linestyle=\"dashed\")"
   ]
  },
  {
   "cell_type": "markdown",
   "id": "2febeef3",
   "metadata": {},
   "source": [
    "### BONUS TASK\n",
    "Can you write a general form of the linear model? One where we can pass in the parameters?\n",
    "\n",
    "Really, we want the signature of the actual model function to be the same as for the other two we defined - how could we do that? (hint: factory function)"
   ]
  },
  {
   "cell_type": "code",
   "execution_count": 17,
   "id": "aae4ed50",
   "metadata": {},
   "outputs": [],
   "source": [
    "# one potential solution: (1 mark)\n",
    "def linear_model(x, w0, w1):\n",
    "    return w0 + w1 * x\n",
    "\n",
    "\n",
    "# an alternative (that complies with general model signature):\n",
    "def make_lin_model(w0, w1):\n",
    "    def m(x):\n",
    "        return w0 + w1 * x\n",
    "    \n",
    "    return m"
   ]
  },
  {
   "cell_type": "markdown",
   "id": "7f0dd385-bb50-4b06-8483-f29095fb13af",
   "metadata": {},
   "source": [
    "## How good are our models?\n",
    "These two models are very different. Depending on what your particular data set looks like, one of them could be brilliant, but it's more likely they're both terrible. However its also likely that one is better than the other.\n",
    "\n",
    "We can intuitively see this - the line is closer to the data points - but can we devise a way to measure it, formally?\n",
    "\n",
    "A simple way to do this is to just think about how 'wrong' the model is in a literal sense. We can find the difference between our prediction and the real value at one particular point. This difference is called the error:\n",
    "\n",
    "\n",
    "$$\n",
    "E = y - f(x)\n",
    "$$\n",
    "\n",
    "We compute this here for individual data points, but we can also compute it for all our data points, and add up the error to get a sense for how the model performs overall. \n",
    "\n",
    "$$\n",
    "E = \\sum_{i =0} ^{|X|} y_i - f(x_i)\n",
    "$$\n",
    "\n",
    "In fact why not take the mean?\n",
    "\n",
    "$$\n",
    "ME = \\frac{1}{|X|} \\sum_{i =0} ^{|X|} y_i - f(x_i)\n",
    "$$\n",
    "\n",
    "Now a problem can arise - if we overshoot some values, but undershoot others, then when we add up the errors, they could cancel out. This is bad! So we need a way to add them up without them cancelling.\n",
    "\n",
    "You might imagine just taking the absolute value of the error before summing, but there are problems with this - the `abs` function has some nasty algebraic properties that make it harder to work with. For this reason, we prefer a different method: *squaring* the error. Applying this idea to the mean of the error gives us the mean square error, or \"MSE\".\n",
    "\n",
    "\n",
    "$$\n",
    "MSE = \\frac{1}{|X|} \\sum_{i =0} ^{|X|} (y_i - f(x_i))^2\n",
    "$$\n",
    "\n",
    "This is a simple but effective measure of how good our model is; A better model has lower MSE.\n",
    "In machine learning, we call a function that helps us measure how good a model is a loss function. Its written $\\mathcal{L}$. \n",
    "\n",
    "What are the parameters to $\\mathcal{L}$? We need to give it a model of course, but also something to measure it against - we need input values $x$, and also true values $y$. \n",
    "\n",
    "We've written a function signature out below - fill in an implementation for loss."
   ]
  },
  {
   "cell_type": "code",
   "execution_count": 10,
   "id": "fb70aa09-1fc7-4502-9031-6d00a883daba",
   "metadata": {},
   "outputs": [],
   "source": [
    "# Note `Callable[[int], int]` means a function of the form `(x: int) -> int`\n",
    "\n",
    "def loss(xs: List[int], ys: List[int], model: Callable[[int], int]) -> int:\n",
    "    # as a nice one-liner\n",
    "    # return sum([(y - model(x)) ** 2 for (x, y) in zip(xs, ys)])\n",
    "    total = 0;\n",
    "    for x, y in zip(xs, ys):\n",
    "        t = model(x)\n",
    "        error = y - t\n",
    "        squareError = error ** 2\n",
    "        total += squareError\n",
    "    return total"
   ]
  },
  {
   "cell_type": "code",
   "execution_count": 13,
   "id": "81995476",
   "metadata": {},
   "outputs": [
    {
     "name": "stdout",
     "output_type": "stream",
     "text": [
      "212768\n",
      "299957\n"
     ]
    }
   ],
   "source": [
    "xs = data2[\"x\"]\n",
    "ys = data2[\"y\"]\n",
    "\n",
    "check(\"loss1\", loss(xs, ys, model1))\n",
    "check(\"loss2\", loss(xs, ys, model2))"
   ]
  },
  {
   "cell_type": "markdown",
   "id": "9c393fbe",
   "metadata": {},
   "source": [
    "## Optimisation\n",
    "So, now we have a definition for models, and a way to measure how good they are. What do we do next?\n",
    "\n",
    "We want to find the best line - the model that fits our data most closely. We measure the quality of the fit with loss. We want to know the parameters to our model that produce the **minimum loss** - and therefore will give us the 'best' results. There are a few approaches to this that we can take to figure out these parameter values.\n",
    "\n",
    "\n",
    "First, have a look at our loss function again:\n",
    "$$\n",
    "\\mathcal{L} =  \\frac{1}{|X|} \\sum_{i =0} ^{|X|} (y_i - f(x_i))^2\n",
    "$$\n",
    "\n",
    "We can substitute out the function $f(x)$ for the actual equation the model uses:\n",
    "\n",
    "$$\n",
    "\\mathcal{L} =  \\frac{1}{|X|} \\sum_{i =0} ^{|X|} (y_i - (w_0 + w_1x_i ))^2\n",
    "$$\n",
    "\n",
    "Because we are using MSE, the loss is actually a quadratic function of both our parameters. And therefore, it is *guaranteed* to have a global minima for each.\n",
    "\n",
    "We can find this analytically. It's a quadratic curve, so we know that its minimum exists where $\\frac{dy}{dw}=0$. So, all we have to do is find the derivative of loss, and then find the root. Simple!\n",
    "\n",
    "\n",
    "Well, alright, the calculus isn't really all that nice. We have the full derivation listed out [here](https://site/regression/maths/analitic-loss) if you want to have a look - and we do recommend that you have a go at deriving it yourself first. That page also lists a bunch of useful identities for doing that.\n",
    "\n",
    "\n",
    "But, if you're ready to move on, the important thing is that we can find definite values of $w_0$ and $w_1$, given by the following equations:\n",
    "\n",
    "\n",
    "N.B. The bar denotes average\n",
    "$$\n",
    "\\begin{align*}\n",
    "w_{0} & =\\bar{t} - \\left(\\frac{\\bar{tx} - \\bar{t}\\bar{x} }{\\bar{x^{2}} -\\bar{x}^{2}} \\right)\\bar{x} \\\\ \\\\\n",
    "w_{1} &= \\frac{\\bar{tx} - \\bar{t}\\bar{x} }{\\bar{x^{2}} -\\bar{x}^{2}} \n",
    "\\end{align*}\n",
    "$$\n",
    "\n",
    "\n",
    "So, your task is as follows: compute the optimal parameters for a model that fits `data2`. Bonus points if you can write a function that takes in `x` and `y`. Be careful to use the right values: $\\bar{tx}$ is different to $\\bar{t}\\bar{x}$.\n",
    "\n",
    "Then, using these optimal parameters, create a model (called `opti_model`). We will plot this against the data, so you can visually inspect how well it fits"
   ]
  },
  {
   "cell_type": "code",
   "execution_count": 28,
   "id": "9158a19b",
   "metadata": {},
   "outputs": [],
   "source": [
    "# your solution here....\n",
    "def optimise(xs, ts):\n",
    "    tbar = ts.mean()\n",
    "    xbar = xs.mean()\n",
    "    txbar = (xs * ts).mean()\n",
    "\n",
    "    x_sqr_bar = (xs ** 2).mean()\n",
    "\n",
    "    w0 = tbar - (\n",
    "        (txbar - (xbar * tbar))/ (x_sqr_bar - xbar**2)\n",
    "    \n",
    "    ) * xbar\n",
    "\n",
    "    w1 = (txbar - xbar * tbar) / (x_sqr_bar - xbar ** 2)\n",
    "    \n",
    "    return (w0, w1)\n",
    "\n",
    "w0, w1 = optimise(data2[\"x\"], data2[\"y\"])\n",
    "\n",
    "opti_model = make_lin_model(w0, w1)"
   ]
  },
  {
   "cell_type": "code",
   "execution_count": 29,
   "id": "3e8ee43e-97be-45fd-baad-3102f01d1027",
   "metadata": {},
   "outputs": [
    {
     "data": {
      "text/plain": [
       "[<matplotlib.lines.Line2D at 0x12048eeb3e0>]"
      ]
     },
     "execution_count": 29,
     "metadata": {},
     "output_type": "execute_result"
    },
    {
     "data": {
      "image/png": "[encoded data removed]",
      "text/plain": [
       "<Figure size 640x480 with 1 Axes>"
      ]
     },
     "metadata": {},
     "output_type": "display_data"
    }
   ],
   "source": [
    "plt.scatter(data2[\"x\"], data2[\"y\"], marker=\"x\")\n",
    "xs = [0, 100]\n",
    "\n",
    "# plotting theory 1\n",
    "ys = [opti_model(x) for x in xs]\n",
    "plt.plot(xs, ys, linestyle=\"dashed\", color=\"red\")"
   ]
  },
  {
   "cell_type": "markdown",
   "id": "b39e5c55-d8db-4926-8161-b24ce83af065",
   "metadata": {},
   "source": [
    "If you did this correctly, you should have a nice straight line going through your data."
   ]
  },
  {
   "cell_type": "markdown",
   "id": "082171d9-f102-43a9-aadb-234b79cafa9d",
   "metadata": {},
   "source": [
    "## Wrap-up\n",
    "\n",
    "In general, we can extend this idea - of solving things analytically - to any kind of model we would want. For example:\n",
    "\n",
    "$$\n",
    "\\begin{align}\n",
    "y = w_0 + w_1 \\sin(w_2x)s\\\\\n",
    "\\mathcal{L} =  \\frac{1}{|X|} \\sum_{i =0} ^{|X|} (y_i - (w_0 + w_1 \\sin(w_2x) ))^2\n",
    "\\end{align}\n",
    "$$\n",
    "\n",
    "All you have to do is take the derivative, and find the stationary points of the loss. N.B. this is not a linear model in either of the senses we spoke about earlier; The model itself is not linear (it uses $\\sin$) and it is not a simple linear combination (we also control the period of the $\\sin$ with $w_2$)."
   ]
  }
 ],
 "metadata": {
  "kernelspec": {
   "display_name": "Python 3 (ipykernel)",
   "language": "python",
   "name": "python3"
  },
  "language_info": {
   "codemirror_mode": {
    "name": "ipython",
    "version": 3
   },
   "file_extension": ".py",
   "mimetype": "text/x-python",
   "name": "python",
   "nbconvert_exporter": "python",
   "pygments_lexer": "ipython3",
   "version": "3.12.1"
  }
 },
 "nbformat": 4,
 "nbformat_minor": 5
}
